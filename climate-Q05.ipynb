{
 "cells": [
  {
   "cell_type": "markdown",
   "id": "a0394036",
   "metadata": {
    "collapsed": false,
    "jupyter": {
     "outputs_hidden": false
    },
    "pycharm": {
     "name": "#%% md\n"
    }
   },
   "source": [
    "# Homework 3\n",
    "## Question 5 [10 points]\n",
    "\n",
    "This document is to reproduce the Figure 2(a)(b)(c) in Gentemann, Chelle L., Fewings, Melanie R. and García‐Reyes, Marisol. \"[Satellite sea surface temperatures along the West Coast of the United States during the 2014–2016 northeast Pacific marine heat wave.](https://agupubs.onlinelibrary.wiley.com/doi/10.1002/2016GL071039)\" _Geophysical Research Letters_ 44, no. 1 (2017): 312-319. [DOI: 10.1002/2016GL071039](https://doi.org/10.1002/2016GL071039).\n",
    "\n",
    "### It worth to note that the provided data for this homework has different longitude range (132W-), with original date used in the paper(138W-), which explains the cropped fraction of the figure left boundary.\n"
   ]
  },
  {
   "cell_type": "markdown",
   "id": "1e94041d",
   "metadata": {
    "collapsed": false,
    "pycharm": {
     "name": "#%% md\n"
    }
   },
   "source": [
    "## Figure 2(a) The maximum 5 day average SST anomaly at each location during 2002 to July 2016, relative to the 2002–2012 climatolog"
   ]
  },
  {
   "cell_type": "code",
   "execution_count": 1,
   "id": "d798075a",
   "metadata": {
    "collapsed": false,
    "jupyter": {
     "outputs_hidden": false
    },
    "pycharm": {
     "name": "#%%\n"
    }
   },
   "outputs": [],
   "source": [
    "# Import and setting params\n",
    "import matplotlib\n",
    "import matplotlib.pyplot as plt\n",
    "import cartopy.crs as ccrs\n",
    "import cartopy.feature as cfeature\n",
    "import xarray as xr\n",
    "xr.set_options(display_style=\"html\")  # display dataset nicely\n",
    "import warnings\n",
    "warnings.simplefilter(\"ignore\")  # filter some warning messages\n",
    "\n",
    "# code features from https://scitools.org.uk/cartopy/docs/v0.14/matplotlib/feature_interface.html\n",
    "crs = ccrs.PlateCarree()  # set projection\n",
    "\n",
    "# Small style adjustments for more readable plots\n",
    "plt.style.use(\"seaborn-whitegrid\")\n",
    "plt.rcParams[\"figure.figsize\"] = (8, 6)\n",
    "plt.rcParams[\"font.size\"] = 14"
   ]
  },
  {
   "cell_type": "markdown",
   "id": "09c29ac6",
   "metadata": {
    "collapsed": false,
    "jupyter": {
     "outputs_hidden": false
    },
    "pycharm": {
     "name": "#%% md\n"
    }
   },
   "source": [
    "Load data"
   ]
  },
  {
   "cell_type": "code",
   "execution_count": 2,
   "id": "8f5c0976",
   "metadata": {
    "collapsed": false,
    "jupyter": {
     "outputs_hidden": false
    },
    "pycharm": {
     "name": "#%%\n"
    }
   },
   "outputs": [],
   "source": [
    "ds = xr.open_dataset(\"~/shared/climate-data/ds_hw.nc\")"
   ]
  },
  {
   "cell_type": "markdown",
   "id": "2a773ae9",
   "metadata": {
    "collapsed": false,
    "jupyter": {
     "outputs_hidden": false
    },
    "pycharm": {
     "name": "#%% md\n"
    }
   },
   "source": [
    "Select data by date range and take moving average by 5 days"
   ]
  },
  {
   "cell_type": "code",
   "execution_count": null,
   "id": "f8fb9d54",
   "metadata": {
    "collapsed": false,
    "jupyter": {
     "outputs_hidden": false
    },
    "pycharm": {
     "name": "#%%\n"
    }
   },
   "outputs": [],
   "source": [
    "sst_0212 = ds.sel(time=slice('2002-01-01', '2012-12-31')).analysed_sst\n",
    "sst_0212_5_day_avg = sst_0212.rolling(time=5, center=True, min_periods=1).mean()\n",
    "\n",
    "sst_0216 = ds.sel(time=slice('2002-01-01', '2016-07-31')).analysed_sst\n",
    "sst_0216_5_day_avg = sst_0216.rolling(time=5, center=True, min_periods=1).mean()"
   ]
  },
  {
   "cell_type": "markdown",
   "id": "0a51b966",
   "metadata": {
    "collapsed": false,
    "pycharm": {
     "name": "#%% md\n"
    }
   },
   "source": [
    "Calculate the climatology of each day of year using data during 2002 - July 2012 after 5 days average"
   ]
  },
  {
   "cell_type": "code",
   "execution_count": 4,
   "id": "afe094b5",
   "metadata": {
    "collapsed": false,
    "jupyter": {
     "outputs_hidden": false
    },
    "pycharm": {
     "name": "#%%\n"
    }
   },
   "outputs": [],
   "source": [
    "climatology = sst_0212_5_day_avg.groupby('time.dayofyear').mean('time', keep_attrs=True, skipna=False)"
   ]
  },
  {
   "cell_type": "markdown",
   "id": "ce47af0c",
   "metadata": {
    "collapsed": false,
    "pycharm": {
     "name": "#%% md\n"
    }
   },
   "source": [
    "Pick the maximum five days average SST anomaly at each location for the visualization of Fig2(a)"
   ]
  },
  {
   "cell_type": "code",
   "execution_count": 5,
   "id": "5df5397d",
   "metadata": {
    "collapsed": false,
    "jupyter": {
     "outputs_hidden": false
    },
    "pycharm": {
     "name": "#%%\n"
    }
   },
   "outputs": [],
   "source": [
    "sst_max_anomolies = (sst_0216_5_day_avg.groupby('time.dayofyear') - climatology).max(dim='time')"
   ]
  },
  {
   "cell_type": "markdown",
   "id": "d2438a45",
   "metadata": {
    "collapsed": false,
    "pycharm": {
     "name": "#%% md\n"
    }
   },
   "source": [
    "Visualization"
   ]
  },
  {
   "cell_type": "code",
   "execution_count": 6,
   "id": "87f976cd",
   "metadata": {
    "collapsed": false,
    "jupyter": {
     "outputs_hidden": false
    },
    "pycharm": {
     "name": "#%%\n"
    }
   },
   "outputs": [],
   "source": [
    "ax = plt.subplot(projection=crs)\n",
    "ax.add_feature(cfeature.LAND, color=\"grey\")\n",
    "ax.add_feature(cfeature.STATES.with_scale(\"10m\"))\n",
    "ax.coastlines(\"10m\", color=\"k\")\n",
    "sst_max_anomolies.plot(ax=ax, transform=crs, cmap='jet', vmin=0, vmax=5)\n",
    "plt.savefig('outputs/Q05-f2a.png')"
   ]
  },
  {
   "cell_type": "code",
   "execution_count": 7,
   "id": "fbf29dfb",
   "metadata": {
    "collapsed": false,
    "jupyter": {
     "outputs_hidden": false
    },
    "pycharm": {
     "name": "#%%\n"
    }
   },
   "outputs": [],
   "source": [
    "plt.close()"
   ]
  },
  {
   "cell_type": "markdown",
   "id": "579556ad",
   "metadata": {
    "collapsed": false,
    "pycharm": {
     "name": "#%% md\n"
    }
   },
   "source": [
    "## Figure 2(b) maximum anomaly month"
   ]
  },
  {
   "cell_type": "markdown",
   "id": "a2c1d582",
   "metadata": {
    "collapsed": false,
    "pycharm": {
     "name": "#%% md\n"
    }
   },
   "source": [
    "Identify the month correspond to the maximum anomaly"
   ]
  },
  {
   "cell_type": "code",
   "execution_count": 8,
   "id": "7005f453",
   "metadata": {
    "collapsed": false,
    "jupyter": {
     "outputs_hidden": false
    },
    "pycharm": {
     "name": "#%%\n"
    }
   },
   "outputs": [],
   "source": [
    "max_month = (sst_0216_5_day_avg.groupby('time.dayofyear') - climatology).idxmax(dim='time').dt.month"
   ]
  },
  {
   "cell_type": "code",
   "execution_count": 9,
   "id": "80d046c8",
   "metadata": {
    "collapsed": false,
    "jupyter": {
     "outputs_hidden": false
    },
    "pycharm": {
     "name": "#%%\n"
    }
   },
   "outputs": [],
   "source": [
    "# Visualization\n",
    "ax = plt.subplot(projection=crs)\n",
    "fig=max_month.plot(ax=ax, transform=crs, add_colorbar=False, cmap='jet', vmin=0, vmax=12)\n",
    "cbar = plt.colorbar(fig, boundaries=range(1, 13, 1))\n",
    "cbar.set_label('Month of Year')\n",
    "cbar.set_ticks([1,12])\n",
    "ax.add_feature(cfeature.LAND, color=\"grey\")\n",
    "ax.add_feature(cfeature.STATES.with_scale(\"10m\"))\n",
    "ax.coastlines(\"10m\", color=\"k\")\n",
    "plt.savefig('outputs/Q05-f2b.png')"
   ]
  },
  {
   "cell_type": "code",
   "execution_count": 10,
   "id": "692e02e9",
   "metadata": {
    "collapsed": false,
    "jupyter": {
     "outputs_hidden": false
    },
    "pycharm": {
     "name": "#%%\n"
    }
   },
   "outputs": [],
   "source": [
    "plt.close()"
   ]
  },
  {
   "cell_type": "markdown",
   "id": "6a1fd12b",
   "metadata": {
    "collapsed": false,
    "pycharm": {
     "name": "#%% md\n"
    }
   },
   "source": [
    "### Figrue 2(c) maximum anomaly year"
   ]
  },
  {
   "cell_type": "markdown",
   "id": "af62e385",
   "metadata": {
    "collapsed": false,
    "pycharm": {
     "name": "#%% md\n"
    }
   },
   "source": [
    "Identify the month correspond to the maximum anomaly"
   ]
  },
  {
   "cell_type": "code",
   "execution_count": 11,
   "id": "a1675eaa",
   "metadata": {
    "collapsed": false,
    "jupyter": {
     "outputs_hidden": false
    },
    "pycharm": {
     "name": "#%%\n"
    }
   },
   "outputs": [],
   "source": [
    "max_year = (sst_0216_5_day_avg.groupby('time.dayofyear') - climatology).idxmax(dim='time').dt.year"
   ]
  },
  {
   "cell_type": "markdown",
   "id": "79517806",
   "metadata": {
    "collapsed": false,
    "pycharm": {
     "name": "#%% md\n"
    }
   },
   "source": [
    "Customized color map to match the color in paper with accurate RGB color"
   ]
  },
  {
   "cell_type": "code",
   "execution_count": 12,
   "id": "b9b1a7b1",
   "metadata": {
    "collapsed": false,
    "jupyter": {
     "outputs_hidden": false
    },
    "pycharm": {
     "name": "#%%\n"
    }
   },
   "outputs": [],
   "source": [
    "year_cmap = matplotlib.colors.ListedColormap(\n",
    "    ((  6/255,  59/255, 253/255), # 2013\n",
    "    ( 74/255, 255/255,   1/255), # 2014\n",
    "    (250/255, 144/255,   1/255), # 2015\n",
    "    (195/255,   1/255,  33/255) # 2016\n",
    "     ))"
   ]
  },
  {
   "cell_type": "code",
   "execution_count": 13,
   "id": "0349e125",
   "metadata": {
    "collapsed": false,
    "jupyter": {
     "outputs_hidden": false
    },
    "pycharm": {
     "name": "#%%\n"
    }
   },
   "outputs": [],
   "source": [
    "# Visualization\n",
    "ax = plt.subplot(projection=crs)\n",
    "fig=max_year.plot(ax=ax, transform=crs, add_colorbar=False, cmap=year_cmap, vmin=2013, vmax=2016)\n",
    "cbar = plt.colorbar(fig)\n",
    "cbar.set_label('Year')\n",
    "cbar.set_ticks([2013, 2014, 2015, 2016])\n",
    "ax.add_feature(cfeature.LAND, color=\"grey\")\n",
    "ax.add_feature(cfeature.STATES.with_scale(\"10m\"))\n",
    "ax.coastlines(\"10m\", color=\"k\")\n",
    "plt.savefig('outputs/Q05-f2c.png')"
   ]
  },
  {
   "cell_type": "code",
   "execution_count": 14,
   "id": "af76e55f",
   "metadata": {
    "collapsed": false,
    "jupyter": {
     "outputs_hidden": false
    },
    "pycharm": {
     "name": "#%%\n"
    }
   },
   "outputs": [],
   "source": [
    "plt.close()"
   ]
  }
 ],
 "metadata": {
  "kernelspec": {
   "display_name": "Python 3 (ipykernel)",
   "language": "python",
   "name": "python3"
  },
  "language_info": {
   "codemirror_mode": {
    "name": "ipython",
    "version": 3
   },
   "file_extension": ".py",
   "mimetype": "text/x-python",
   "name": "python",
   "nbconvert_exporter": "python",
   "pygments_lexer": "ipython3",
   "version": "3.10.8"
  }
 },
 "nbformat": 4,
 "nbformat_minor": 5
}
